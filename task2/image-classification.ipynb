{
 "cells": [
  {
   "cell_type": "code",
   "execution_count": 1,
   "metadata": {
    "_cell_guid": "b1076dfc-b9ad-4769-8c92-a6c4dae69d19",
    "_uuid": "8f2839f25d086af736a60e9eeb907d3b93b6e0e5",
    "execution": {
     "iopub.execute_input": "2025-02-28T16:57:36.595738Z",
     "iopub.status.busy": "2025-02-28T16:57:36.595423Z",
     "iopub.status.idle": "2025-02-28T16:57:50.562854Z",
     "shell.execute_reply": "2025-02-28T16:57:50.562087Z",
     "shell.execute_reply.started": "2025-02-28T16:57:36.595710Z"
    },
    "trusted": true
   },
   "outputs": [
    {
     "name": "stdout",
     "output_type": "stream",
     "text": [
      "Collecting deeplake<4\n",
      "  Downloading deeplake-3.9.43.tar.gz (639 kB)\n",
      "\u001b[2K     \u001b[90m━━━━━━━━━━━━━━━━━━━━━━━━━━━━━━━━━━━━━━━━\u001b[0m \u001b[32m639.9/639.9 kB\u001b[0m \u001b[31m11.0 MB/s\u001b[0m eta \u001b[36m0:00:00\u001b[0ma \u001b[36m0:00:01\u001b[0m\n",
      "\u001b[?25h  Installing build dependencies ... \u001b[?25l\u001b[?25hdone\n",
      "  Getting requirements to build wheel ... \u001b[?25l\u001b[?25hdone\n",
      "  Preparing metadata (pyproject.toml) ... \u001b[?25l\u001b[?25hdone\n",
      "Requirement already satisfied: numpy<2.0 in /usr/local/lib/python3.10/dist-packages (from deeplake<4) (1.26.4)\n",
      "Requirement already satisfied: boto3 in /usr/local/lib/python3.10/dist-packages (from deeplake<4) (1.36.23)\n",
      "Requirement already satisfied: click in /usr/local/lib/python3.10/dist-packages (from deeplake<4) (8.1.7)\n",
      "Requirement already satisfied: pathos in /usr/local/lib/python3.10/dist-packages (from deeplake<4) (0.3.2)\n",
      "Collecting humbug>=0.3.1 (from deeplake<4)\n",
      "  Downloading humbug-0.3.2-py3-none-any.whl.metadata (6.8 kB)\n",
      "Requirement already satisfied: tqdm in /usr/local/lib/python3.10/dist-packages (from deeplake<4) (4.67.1)\n",
      "Collecting lz4 (from deeplake<4)\n",
      "  Downloading lz4-4.4.3-cp310-cp310-manylinux_2_17_x86_64.manylinux2014_x86_64.whl.metadata (3.8 kB)\n",
      "Requirement already satisfied: pyjwt in /usr/local/lib/python3.10/dist-packages (from deeplake<4) (2.10.1)\n",
      "Collecting aioboto3>=10.4.0 (from deeplake<4)\n",
      "  Downloading aioboto3-14.0.0-py3-none-any.whl.metadata (8.8 kB)\n",
      "Requirement already satisfied: nest_asyncio in /usr/local/lib/python3.10/dist-packages (from deeplake<4) (1.6.0)\n",
      "Requirement already satisfied: pydantic in /usr/local/lib/python3.10/dist-packages (from deeplake<4) (2.11.0a2)\n",
      "Collecting libdeeplake (from deeplake<4)\n",
      "  Downloading libdeeplake-0.0.158-cp310-cp310-manylinux2014_x86_64.whl.metadata (483 bytes)\n",
      "Collecting aiobotocore==2.20.0 (from aiobotocore[boto3]==2.20.0->aioboto3>=10.4.0->deeplake<4)\n",
      "  Downloading aiobotocore-2.20.0-py3-none-any.whl.metadata (23 kB)\n",
      "Collecting aiofiles>=23.2.1 (from aioboto3>=10.4.0->deeplake<4)\n",
      "  Downloading aiofiles-24.1.0-py3-none-any.whl.metadata (10 kB)\n",
      "Requirement already satisfied: aiohttp<4.0.0,>=3.9.2 in /usr/local/lib/python3.10/dist-packages (from aiobotocore==2.20.0->aiobotocore[boto3]==2.20.0->aioboto3>=10.4.0->deeplake<4) (3.11.12)\n",
      "Collecting aioitertools<1.0.0,>=0.5.1 (from aiobotocore==2.20.0->aiobotocore[boto3]==2.20.0->aioboto3>=10.4.0->deeplake<4)\n",
      "  Downloading aioitertools-0.12.0-py3-none-any.whl.metadata (3.8 kB)\n",
      "Requirement already satisfied: botocore<1.36.24,>=1.36.20 in /usr/local/lib/python3.10/dist-packages (from aiobotocore==2.20.0->aiobotocore[boto3]==2.20.0->aioboto3>=10.4.0->deeplake<4) (1.36.23)\n",
      "Requirement already satisfied: python-dateutil<3.0.0,>=2.1 in /usr/local/lib/python3.10/dist-packages (from aiobotocore==2.20.0->aiobotocore[boto3]==2.20.0->aioboto3>=10.4.0->deeplake<4) (2.9.0.post0)\n",
      "Requirement already satisfied: jmespath<2.0.0,>=0.7.1 in /usr/local/lib/python3.10/dist-packages (from aiobotocore==2.20.0->aiobotocore[boto3]==2.20.0->aioboto3>=10.4.0->deeplake<4) (1.0.1)\n",
      "Requirement already satisfied: multidict<7.0.0,>=6.0.0 in /usr/local/lib/python3.10/dist-packages (from aiobotocore==2.20.0->aiobotocore[boto3]==2.20.0->aioboto3>=10.4.0->deeplake<4) (6.1.0)\n",
      "Requirement already satisfied: urllib3!=2.2.0,<3,>=1.25.4 in /usr/local/lib/python3.10/dist-packages (from aiobotocore==2.20.0->aiobotocore[boto3]==2.20.0->aioboto3>=10.4.0->deeplake<4) (2.3.0)\n",
      "Requirement already satisfied: wrapt<2.0.0,>=1.10.10 in /usr/local/lib/python3.10/dist-packages (from aiobotocore==2.20.0->aiobotocore[boto3]==2.20.0->aioboto3>=10.4.0->deeplake<4) (1.17.0)\n",
      "Requirement already satisfied: s3transfer<0.12.0,>=0.11.0 in /usr/local/lib/python3.10/dist-packages (from boto3->deeplake<4) (0.11.2)\n",
      "Requirement already satisfied: requests in /usr/local/lib/python3.10/dist-packages (from humbug>=0.3.1->deeplake<4) (2.32.3)\n",
      "Requirement already satisfied: mkl_fft in /usr/local/lib/python3.10/dist-packages (from numpy<2.0->deeplake<4) (1.3.8)\n",
      "Requirement already satisfied: mkl_random in /usr/local/lib/python3.10/dist-packages (from numpy<2.0->deeplake<4) (1.2.4)\n",
      "Requirement already satisfied: mkl_umath in /usr/local/lib/python3.10/dist-packages (from numpy<2.0->deeplake<4) (0.1.1)\n",
      "Requirement already satisfied: mkl in /usr/local/lib/python3.10/dist-packages (from numpy<2.0->deeplake<4) (2025.0.1)\n",
      "Requirement already satisfied: tbb4py in /usr/local/lib/python3.10/dist-packages (from numpy<2.0->deeplake<4) (2022.0.0)\n",
      "Requirement already satisfied: mkl-service in /usr/local/lib/python3.10/dist-packages (from numpy<2.0->deeplake<4) (2.4.1)\n",
      "Requirement already satisfied: dill in /usr/local/lib/python3.10/dist-packages (from libdeeplake->deeplake<4) (0.3.8)\n",
      "Requirement already satisfied: ppft>=1.7.6.8 in /usr/local/lib/python3.10/dist-packages (from pathos->deeplake<4) (1.7.6.9)\n",
      "Requirement already satisfied: pox>=0.3.4 in /usr/local/lib/python3.10/dist-packages (from pathos->deeplake<4) (0.3.5)\n",
      "Requirement already satisfied: multiprocess>=0.70.16 in /usr/local/lib/python3.10/dist-packages (from pathos->deeplake<4) (0.70.16)\n",
      "Requirement already satisfied: annotated-types>=0.6.0 in /usr/local/lib/python3.10/dist-packages (from pydantic->deeplake<4) (0.7.0)\n",
      "Requirement already satisfied: pydantic-core==2.29.0 in /usr/local/lib/python3.10/dist-packages (from pydantic->deeplake<4) (2.29.0)\n",
      "Requirement already satisfied: typing-extensions>=4.12.2 in /usr/local/lib/python3.10/dist-packages (from pydantic->deeplake<4) (4.12.2)\n",
      "Requirement already satisfied: intel-openmp>=2024 in /usr/local/lib/python3.10/dist-packages (from mkl->numpy<2.0->deeplake<4) (2024.2.0)\n",
      "Requirement already satisfied: tbb==2022.* in /usr/local/lib/python3.10/dist-packages (from mkl->numpy<2.0->deeplake<4) (2022.0.0)\n",
      "Requirement already satisfied: tcmlib==1.* in /usr/local/lib/python3.10/dist-packages (from tbb==2022.*->mkl->numpy<2.0->deeplake<4) (1.2.0)\n",
      "Requirement already satisfied: intel-cmplr-lib-rt in /usr/local/lib/python3.10/dist-packages (from mkl_umath->numpy<2.0->deeplake<4) (2024.2.0)\n",
      "Requirement already satisfied: charset-normalizer<4,>=2 in /usr/local/lib/python3.10/dist-packages (from requests->humbug>=0.3.1->deeplake<4) (3.4.1)\n",
      "Requirement already satisfied: idna<4,>=2.5 in /usr/local/lib/python3.10/dist-packages (from requests->humbug>=0.3.1->deeplake<4) (3.10)\n",
      "Requirement already satisfied: certifi>=2017.4.17 in /usr/local/lib/python3.10/dist-packages (from requests->humbug>=0.3.1->deeplake<4) (2025.1.31)\n",
      "Requirement already satisfied: aiohappyeyeballs>=2.3.0 in /usr/local/lib/python3.10/dist-packages (from aiohttp<4.0.0,>=3.9.2->aiobotocore==2.20.0->aiobotocore[boto3]==2.20.0->aioboto3>=10.4.0->deeplake<4) (2.4.6)\n",
      "Requirement already satisfied: aiosignal>=1.1.2 in /usr/local/lib/python3.10/dist-packages (from aiohttp<4.0.0,>=3.9.2->aiobotocore==2.20.0->aiobotocore[boto3]==2.20.0->aioboto3>=10.4.0->deeplake<4) (1.3.2)\n",
      "Requirement already satisfied: async-timeout<6.0,>=4.0 in /usr/local/lib/python3.10/dist-packages (from aiohttp<4.0.0,>=3.9.2->aiobotocore==2.20.0->aiobotocore[boto3]==2.20.0->aioboto3>=10.4.0->deeplake<4) (5.0.1)\n",
      "Requirement already satisfied: attrs>=17.3.0 in /usr/local/lib/python3.10/dist-packages (from aiohttp<4.0.0,>=3.9.2->aiobotocore==2.20.0->aiobotocore[boto3]==2.20.0->aioboto3>=10.4.0->deeplake<4) (25.1.0)\n",
      "Requirement already satisfied: frozenlist>=1.1.1 in /usr/local/lib/python3.10/dist-packages (from aiohttp<4.0.0,>=3.9.2->aiobotocore==2.20.0->aiobotocore[boto3]==2.20.0->aioboto3>=10.4.0->deeplake<4) (1.5.0)\n",
      "Requirement already satisfied: propcache>=0.2.0 in /usr/local/lib/python3.10/dist-packages (from aiohttp<4.0.0,>=3.9.2->aiobotocore==2.20.0->aiobotocore[boto3]==2.20.0->aioboto3>=10.4.0->deeplake<4) (0.2.1)\n",
      "Requirement already satisfied: yarl<2.0,>=1.17.0 in /usr/local/lib/python3.10/dist-packages (from aiohttp<4.0.0,>=3.9.2->aiobotocore==2.20.0->aiobotocore[boto3]==2.20.0->aioboto3>=10.4.0->deeplake<4) (1.18.3)\n",
      "Requirement already satisfied: intel-cmplr-lib-ur==2024.2.0 in /usr/local/lib/python3.10/dist-packages (from intel-openmp>=2024->mkl->numpy<2.0->deeplake<4) (2024.2.0)\n",
      "Requirement already satisfied: six>=1.5 in /usr/local/lib/python3.10/dist-packages (from python-dateutil<3.0.0,>=2.1->aiobotocore==2.20.0->aiobotocore[boto3]==2.20.0->aioboto3>=10.4.0->deeplake<4) (1.17.0)\n",
      "Downloading aioboto3-14.0.0-py3-none-any.whl (35 kB)\n",
      "Downloading aiobotocore-2.20.0-py3-none-any.whl (78 kB)\n",
      "\u001b[2K   \u001b[90m━━━━━━━━━━━━━━━━━━━━━━━━━━━━━━━━━━━━━━━━\u001b[0m \u001b[32m78.1/78.1 kB\u001b[0m \u001b[31m6.3 MB/s\u001b[0m eta \u001b[36m0:00:00\u001b[0m\n",
      "\u001b[?25hDownloading humbug-0.3.2-py3-none-any.whl (15 kB)\n",
      "Downloading libdeeplake-0.0.158-cp310-cp310-manylinux2014_x86_64.whl (16.4 MB)\n",
      "\u001b[2K   \u001b[90m━━━━━━━━━━━━━━━━━━━━━━━━━━━━━━━━━━━━━━━━\u001b[0m \u001b[32m16.4/16.4 MB\u001b[0m \u001b[31m83.2 MB/s\u001b[0m eta \u001b[36m0:00:00\u001b[0m:00:01\u001b[0m00:01\u001b[0m\n",
      "\u001b[?25hDownloading lz4-4.4.3-cp310-cp310-manylinux_2_17_x86_64.manylinux2014_x86_64.whl (1.3 MB)\n",
      "\u001b[2K   \u001b[90m━━━━━━━━━━━━━━━━━━━━━━━━━━━━━━━━━━━━━━━━\u001b[0m \u001b[32m1.3/1.3 MB\u001b[0m \u001b[31m59.7 MB/s\u001b[0m eta \u001b[36m0:00:00\u001b[0m\n",
      "\u001b[?25hDownloading aiofiles-24.1.0-py3-none-any.whl (15 kB)\n",
      "Downloading aioitertools-0.12.0-py3-none-any.whl (24 kB)\n",
      "Building wheels for collected packages: deeplake\n",
      "  Building wheel for deeplake (pyproject.toml) ... \u001b[?25l\u001b[?25hdone\n",
      "  Created wheel for deeplake: filename=deeplake-3.9.43-py3-none-any.whl size=768350 sha256=9f3ea028805065598b5d521255e4a54b53d9af49e6cb8633c34fa83d26a314b8\n",
      "  Stored in directory: /root/.cache/pip/wheels/4d/93/e1/524ad6f1224791941740dac97bb6e1696e89efc990ff56c24c\n",
      "Successfully built deeplake\n",
      "Installing collected packages: lz4, aioitertools, aiofiles, humbug, aiobotocore, aioboto3, libdeeplake, deeplake\n",
      "  Attempting uninstall: aiofiles\n",
      "    Found existing installation: aiofiles 22.1.0\n",
      "    Uninstalling aiofiles-22.1.0:\n",
      "      Successfully uninstalled aiofiles-22.1.0\n",
      "\u001b[31mERROR: pip's dependency resolver does not currently take into account all the packages that are installed. This behaviour is the source of the following dependency conflicts.\n",
      "ypy-websocket 0.8.4 requires aiofiles<23,>=22.1.0, but you have aiofiles 24.1.0 which is incompatible.\u001b[0m\u001b[31m\n",
      "\u001b[0mSuccessfully installed aioboto3-14.0.0 aiobotocore-2.20.0 aiofiles-24.1.0 aioitertools-0.12.0 deeplake-3.9.43 humbug-0.3.2 libdeeplake-0.0.158 lz4-4.4.3\n"
     ]
    }
   ],
   "source": [
    "!pip install \"deeplake<4\""
   ]
  },
  {
   "cell_type": "code",
   "execution_count": 2,
   "metadata": {
    "execution": {
     "iopub.execute_input": "2025-02-28T16:57:50.564216Z",
     "iopub.status.busy": "2025-02-28T16:57:50.563994Z",
     "iopub.status.idle": "2025-02-28T16:57:50.568047Z",
     "shell.execute_reply": "2025-02-28T16:57:50.567265Z",
     "shell.execute_reply.started": "2025-02-28T16:57:50.564197Z"
    },
    "trusted": true
   },
   "outputs": [],
   "source": [
    "import warnings\n",
    "warnings.filterwarnings('ignore')\n"
   ]
  },
  {
   "cell_type": "code",
   "execution_count": null,
   "metadata": {
    "execution": {
     "iopub.execute_input": "2025-02-28T16:57:50.569953Z",
     "iopub.status.busy": "2025-02-28T16:57:50.569633Z",
     "iopub.status.idle": "2025-02-28T17:22:46.594994Z",
     "shell.execute_reply": "2025-02-28T17:22:46.593944Z",
     "shell.execute_reply.started": "2025-02-28T16:57:50.569901Z"
    },
    "trusted": true
   },
   "outputs": [
    {
     "name": "stderr",
     "output_type": "stream",
     "text": [
      "-"
     ]
    },
    {
     "name": "stdout",
     "output_type": "stream",
     "text": [
      "Opening dataset in read-only mode as you don't have write permissions.\n"
     ]
    },
    {
     "name": "stderr",
     "output_type": "stream",
     "text": [
      "\\"
     ]
    },
    {
     "name": "stdout",
     "output_type": "stream",
     "text": [
      "This dataset can be visualized in Jupyter Notebook by ds.visualize() or at https://app.activeloop.ai/activeloop/animal10n-train\n",
      "\n"
     ]
    },
    {
     "name": "stderr",
     "output_type": "stream",
     "text": [
      "/"
     ]
    },
    {
     "name": "stdout",
     "output_type": "stream",
     "text": [
      "hub://activeloop/animal10n-train loaded successfully.\n",
      "\n"
     ]
    },
    {
     "name": "stderr",
     "output_type": "stream",
     "text": [
      " Downloading: \"https://download.pytorch.org/models/resnet18-f37072fd.pth\" to /root/.cache/torch/hub/checkpoints/resnet18-f37072fd.pth\n",
      "100%|██████████| 44.7M/44.7M [00:00<00:00, 189MB/s]\n",
      "Training Progress:  10%|█         | 1/10 [02:17<20:33, 137.08s/it]"
     ]
    },
    {
     "name": "stdout",
     "output_type": "stream",
     "text": [
      "Epoch 001 | Train Loss: 2.1436 | Train Acc: 0.2615 | Val Loss: 2.0778 | Val Acc: 0.2724\n"
     ]
    },
    {
     "name": "stderr",
     "output_type": "stream",
     "text": [
      "Training Progress:  20%|██        | 2/10 [04:45<19:11, 143.96s/it]"
     ]
    },
    {
     "name": "stdout",
     "output_type": "stream",
     "text": [
      "Epoch 002 | Train Loss: 1.7270 | Train Acc: 0.3765 | Val Loss: 1.6458 | Val Acc: 0.3922\n"
     ]
    },
    {
     "name": "stderr",
     "output_type": "stream",
     "text": [
      "Training Progress:  30%|███       | 3/10 [07:13<16:58, 145.57s/it]"
     ]
    },
    {
     "name": "stdout",
     "output_type": "stream",
     "text": [
      "Epoch 003 | Train Loss: 1.5529 | Train Acc: 0.4392 | Val Loss: 1.5853 | Val Acc: 0.4272\n"
     ]
    },
    {
     "name": "stderr",
     "output_type": "stream",
     "text": [
      "Training Progress:  40%|████      | 4/10 [09:40<14:37, 146.32s/it]"
     ]
    },
    {
     "name": "stdout",
     "output_type": "stream",
     "text": [
      "Epoch 004 | Train Loss: 1.4786 | Train Acc: 0.4663 | Val Loss: 1.5618 | Val Acc: 0.4238\n"
     ]
    },
    {
     "name": "stderr",
     "output_type": "stream",
     "text": [
      "Training Progress:  50%|█████     | 5/10 [12:09<12:15, 147.01s/it]"
     ]
    },
    {
     "name": "stdout",
     "output_type": "stream",
     "text": [
      "Epoch 005 | Train Loss: 1.4231 | Train Acc: 0.4845 | Val Loss: 1.4868 | Val Acc: 0.4653\n"
     ]
    },
    {
     "name": "stderr",
     "output_type": "stream",
     "text": [
      "Training Progress:  60%|██████    | 6/10 [14:36<09:48, 147.03s/it]"
     ]
    },
    {
     "name": "stdout",
     "output_type": "stream",
     "text": [
      "Epoch 006 | Train Loss: 1.3888 | Train Acc: 0.5027 | Val Loss: 1.6788 | Val Acc: 0.4142\n"
     ]
    },
    {
     "name": "stderr",
     "output_type": "stream",
     "text": [
      "Training Progress:  70%|███████   | 7/10 [17:05<07:23, 147.74s/it]"
     ]
    },
    {
     "name": "stdout",
     "output_type": "stream",
     "text": [
      "Epoch 007 | Train Loss: 1.3506 | Train Acc: 0.5147 | Val Loss: 1.4348 | Val Acc: 0.4815\n"
     ]
    },
    {
     "name": "stderr",
     "output_type": "stream",
     "text": [
      "Training Progress:  80%|████████  | 8/10 [19:33<04:55, 147.85s/it]"
     ]
    },
    {
     "name": "stdout",
     "output_type": "stream",
     "text": [
      "Epoch 008 | Train Loss: 1.3208 | Train Acc: 0.5277 | Val Loss: 1.4023 | Val Acc: 0.5027\n"
     ]
    },
    {
     "name": "stderr",
     "output_type": "stream",
     "text": [
      "Training Progress:  90%|█████████ | 9/10 [21:59<02:27, 147.37s/it]"
     ]
    },
    {
     "name": "stdout",
     "output_type": "stream",
     "text": [
      "Epoch 009 | Train Loss: 1.2871 | Train Acc: 0.5372 | Val Loss: 1.3706 | Val Acc: 0.5126\n"
     ]
    },
    {
     "name": "stderr",
     "output_type": "stream",
     "text": [
      "Training Progress: 100%|██████████| 10/10 [24:26<00:00, 146.63s/it]"
     ]
    },
    {
     "name": "stdout",
     "output_type": "stream",
     "text": [
      "Epoch 010 | Train Loss: 1.2525 | Train Acc: 0.5529 | Val Loss: 1.5748 | Val Acc: 0.4679\n"
     ]
    },
    {
     "name": "stderr",
     "output_type": "stream",
     "text": [
      "\n"
     ]
    }
   ],
   "source": [
    "import torch\n",
    "import torch.nn as nn\n",
    "import torch.optim as optim\n",
    "import torchvision.transforms as transforms\n",
    "import torchvision.models as models\n",
    "import deeplake\n",
    "import matplotlib.pyplot as plt\n",
    "from torch.utils.data import DataLoader, Dataset\n",
    "from PIL import Image\n",
    "from tqdm import tqdm\n",
    "from sklearn.preprocessing import LabelEncoder\n",
    "import numpy as np\n",
    "import pickle\n",
    "\n",
    "\n",
    "full_ds = deeplake.load(\"hub://activeloop/animal10n-train\")\n",
    "\n",
    "full_images = full_ds[\"images\"].numpy()\n",
    "full_labels = full_ds[\"labels\"].numpy()\n",
    "\n",
    "indices = np.arange(len(full_images))\n",
    "np.random.shuffle(indices)\n",
    "\n",
    "split_ratio = 0.8\n",
    "split_idx = int(len(indices) * split_ratio)\n",
    "\n",
    "train_indices, val_indices = indices[:split_idx], indices[split_idx:]\n",
    "train_images, train_labels = full_images[train_indices], full_labels[train_indices]\n",
    "val_images, val_labels = full_images[val_indices], full_labels[val_indices]\n",
    "\n",
    "RESCALE_SIZE = 224\n",
    "BATCH_SIZE = 128\n",
    "EPOCHS = 10\n",
    "LR = 0.02\n",
    "\n",
    "def get_hyperparameters():\n",
    "    return {\n",
    "        \"lr\": LR,\n",
    "        \"batch_size\": BATCH_SIZE,\n",
    "        \"num_epochs\": EPOCHS,\n",
    "    }\n",
    "\n",
    "params = get_hyperparameters()\n",
    "\n",
    "class AnimalDataset(Dataset):\n",
    "    def __init__(self, images, labels, transform=None):\n",
    "        self.images = images\n",
    "        self.labels = labels\n",
    "        self.transform = transform\n",
    "        self.label_encoder = LabelEncoder()\n",
    "        self.label_encoder.fit(self.labels)\n",
    "\n",
    "        with open('label_encoder.pkl', 'wb') as le_dump_file:\n",
    "            pickle.dump(self.label_encoder, le_dump_file)\n",
    "\n",
    "    def __len__(self):\n",
    "        return len(self.images)\n",
    "\n",
    "    def __getitem__(self, idx):\n",
    "        image = self.images[idx]\n",
    "        label = self.labels[idx]\n",
    "\n",
    "        image = Image.fromarray(image.astype('uint8'), 'RGB')\n",
    "        image = image.resize((RESCALE_SIZE, RESCALE_SIZE))\n",
    "\n",
    "        if self.transform:\n",
    "            image = self.transform(image)\n",
    "\n",
    "        label_id = self.label_encoder.transform([label])[0]\n",
    "        return image, label_id\n",
    "\n",
    "transform = transforms.Compose([\n",
    "    transforms.RandomRotation(30),\n",
    "    transforms.RandomHorizontalFlip(p=0.5),\n",
    "    transforms.RandomVerticalFlip(p=0.05),\n",
    "    transforms.ToTensor(),\n",
    "    transforms.Normalize([0.485, 0.456, 0.406], [0.229, 0.224, 0.225]),\n",
    "])\n",
    "\n",
    "train_dataset = AnimalDataset(train_images, train_labels, transform=transform)\n",
    "val_dataset = AnimalDataset(val_images, val_labels, transform=transform)\n",
    "\n",
    "train_loader = DataLoader(train_dataset, batch_size=params[\"batch_size\"], shuffle=True, num_workers=8)\n",
    "val_loader = DataLoader(val_dataset, batch_size=params[\"batch_size\"], shuffle=False, num_workers=8)\n",
    "\n",
    "model = models.resnet18(weights=models.ResNet18_Weights.DEFAULT)\n",
    "model.fc = nn.Linear(in_features=512, out_features=10)\n",
    "\n",
    "device = torch.device(\"cuda\" if torch.cuda.is_available() else \"cpu\")\n",
    "model = model.to(device)\n",
    "\n",
    "def fit_epoch(model, train_loader, criterion, optimizer):\n",
    "    model.train()\n",
    "    running_loss = 0.0\n",
    "    correct = 0\n",
    "    total = 0\n",
    "    \n",
    "    for images, labels in train_loader:\n",
    "        images, labels = images.to(device), labels.to(device)\n",
    "        optimizer.zero_grad()\n",
    "        outputs = model(images)\n",
    "        loss = criterion(outputs, labels)\n",
    "        loss.backward()\n",
    "        optimizer.step()\n",
    "\n",
    "        running_loss += loss.item()\n",
    "        _, predicted = torch.max(outputs, 1)\n",
    "        total += labels.size(0)\n",
    "        correct += (predicted == labels).sum().item()\n",
    "\n",
    "    train_loss = running_loss / len(train_loader)\n",
    "    train_acc = correct / total\n",
    "    return train_loss, train_acc\n",
    "\n",
    "def eval_epoch(model, val_loader, criterion):\n",
    "    model.eval()\n",
    "    running_loss = 0.0\n",
    "    correct = 0\n",
    "    total = 0\n",
    "    \n",
    "    with torch.no_grad():\n",
    "        for images, labels in val_loader:\n",
    "            images, labels = images.to(device), labels.to(device)\n",
    "            outputs = model(images)\n",
    "            loss = criterion(outputs, labels)\n",
    "\n",
    "            running_loss += loss.item()\n",
    "            _, predicted = torch.max(outputs, 1)\n",
    "            total += labels.size(0)\n",
    "            correct += (predicted == labels).sum().item()\n",
    "\n",
    "    val_loss = running_loss / len(val_loader)\n",
    "    val_acc = correct / total\n",
    "    return val_loss, val_acc\n",
    "\n",
    "def train(model, train_loader, val_loader, epochs, batch_size):\n",
    "    optimizer = optim.AdamW(model.parameters(), lr=params[\"lr\"], weight_decay=0.01)\n",
    "    criterion = nn.CrossEntropyLoss()\n",
    "    history = []\n",
    "\n",
    "    log_template = \"Epoch {ep:03d} | Train Loss: {t_loss:.4f} | Train Acc: {t_acc:.4f} | Val Loss: {v_loss:.4f} | Val Acc: {v_acc:.4f}\"\n",
    "    \n",
    "    with tqdm(desc=\"Training Progress\", total=epochs) as pbar:\n",
    "        for epoch in range(epochs):\n",
    "            train_loss, train_acc = fit_epoch(model, train_loader, criterion, optimizer)\n",
    "            val_loss, val_acc = eval_epoch(model, val_loader, criterion)\n",
    "            history.append((train_loss, train_acc, val_loss, val_acc))\n",
    "            \n",
    "            pbar.update(1)\n",
    "            tqdm.write(log_template.format(ep=epoch+1, t_loss=train_loss, t_acc=train_acc, v_loss=val_loss, v_acc=val_acc))\n",
    "    \n",
    "    return history\n",
    "\n",
    "history = train(model, train_loader, val_loader, params[\"num_epochs\"], params[\"batch_size\"])\n",
    "\n",
    "torch.save(model.state_dict(), \"animal10n_resnet18.pth\")"
   ]
  },
  {
   "cell_type": "code",
   "execution_count": 7,
   "metadata": {
    "execution": {
     "iopub.execute_input": "2025-02-28T17:58:17.011773Z",
     "iopub.status.busy": "2025-02-28T17:58:17.011466Z",
     "iopub.status.idle": "2025-02-28T17:58:17.015375Z",
     "shell.execute_reply": "2025-02-28T17:58:17.014486Z",
     "shell.execute_reply.started": "2025-02-28T17:58:17.011747Z"
    },
    "trusted": true
   },
   "outputs": [],
   "source": [
    "loss, acc, val_loss, val_acc = zip(*history)"
   ]
  },
  {
   "cell_type": "code",
   "execution_count": 8,
   "metadata": {
    "execution": {
     "iopub.execute_input": "2025-02-28T17:58:27.341745Z",
     "iopub.status.busy": "2025-02-28T17:58:27.341450Z",
     "iopub.status.idle": "2025-02-28T17:58:27.609572Z",
     "shell.execute_reply": "2025-02-28T17:58:27.608646Z",
     "shell.execute_reply.started": "2025-02-28T17:58:27.341722Z"
    },
    "trusted": true
   },
   "outputs": [
    {
     "data": {
      "image/png": "[encoded data removed]",
      "text/plain": [
       "<Figure size 1500x900 with 1 Axes>"
      ]
     },
     "metadata": {},
     "output_type": "display_data"
    }
   ],
   "source": [
    "plt.figure(figsize=(15, 9))\n",
    "plt.plot(loss, label=\"train_loss\")\n",
    "plt.plot(val_loss, label=\"val_loss\")\n",
    "plt.legend(loc='best')\n",
    "plt.xlabel(\"epochs\")\n",
    "plt.ylabel(\"loss\")\n",
    "plt.show()"
   ]
  }
 ],
 "metadata": {
  "kaggle": {
   "accelerator": "nvidiaTeslaT4",
   "dataSources": [],
   "dockerImageVersionId": 30919,
   "isGpuEnabled": true,
   "isInternetEnabled": true,
   "language": "python",
   "sourceType": "notebook"
  },
  "kernelspec": {
   "display_name": "Python 3",
   "language": "python",
   "name": "python3"
  },
  "language_info": {
   "codemirror_mode": {
    "name": "ipython",
    "version": 3
   },
   "file_extension": ".py",
   "mimetype": "text/x-python",
   "name": "python",
   "nbconvert_exporter": "python",
   "pygments_lexer": "ipython3",
   "version": "3.10.12"
  }
 },
 "nbformat": 4,
 "nbformat_minor": 4
}
